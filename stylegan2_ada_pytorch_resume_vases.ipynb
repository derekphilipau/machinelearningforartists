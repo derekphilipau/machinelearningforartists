{
  "nbformat": 4,
  "nbformat_minor": 0,
  "metadata": {
    "colab": {
      "name": "stylegan2-ada-pytorch-resume-vases.ipynb",
      "provenance": [],
      "collapsed_sections": [],
      "toc_visible": true,
      "machine_shape": "hm",
      "authorship_tag": "ABX9TyMY9e8cbirRpiII+ynS9pn0",
      "include_colab_link": true
    },
    "kernelspec": {
      "name": "python3",
      "display_name": "Python 3"
    },
    "accelerator": "GPU"
  },
  "cells": [
    {
      "cell_type": "markdown",
      "metadata": {
        "id": "view-in-github",
        "colab_type": "text"
      },
      "source": [
        "<a href=\"https://colab.research.google.com/github/derekphilipau/machinelearningforartists/blob/main/stylegan2_ada_pytorch_resume_vases.ipynb\" target=\"_parent\"><img src=\"https://colab.research.google.com/assets/colab-badge.svg\" alt=\"Open In Colab\"/></a>"
      ]
    },
    {
      "cell_type": "markdown",
      "metadata": {
        "id": "sn3E-OLE41BU"
      },
      "source": [
        "# Transfer Learning with Vases\n",
        "\n",
        "In this notebook we will train our dataset using a pre-trained model of vases."
      ]
    },
    {
      "cell_type": "markdown",
      "metadata": {
        "id": "zd2p_MwDv2ji"
      },
      "source": [
        "# SETUP (MUST RUN EACH TIME)"
      ]
    },
    {
      "cell_type": "markdown",
      "metadata": {
        "id": "oLqHshr2y-MO"
      },
      "source": [
        "## Verify Runtime is GPU\n",
        "\n",
        "In the menu, select Runtime -> Change Runtime Type and verify you are using the **GPU**.  Also select **High-RAM** if you are using Colab Pro.\n",
        "\n",
        "The `nvidia-smi` command below should **NOT** display *\"NVIDIA-SMI has failed because it couldn't communicate with the NVIDIA driver.\"*"
      ]
    },
    {
      "cell_type": "code",
      "metadata": {
        "id": "R7JvPMLWy95f"
      },
      "source": [
        "!nvidia-smi -L"
      ],
      "execution_count": null,
      "outputs": []
    },
    {
      "cell_type": "markdown",
      "metadata": {
        "id": "WUl3Rt0ryX7m"
      },
      "source": [
        "## Mount your Google Drive\n",
        "\n",
        "You will be storing the training models and progress images on your Google Drive.  This is very convenient for viewing progress, and if your Colab notebook is disconnected you will not lose your models."
      ]
    },
    {
      "cell_type": "code",
      "metadata": {
        "id": "Ag2Bb1pPzthT"
      },
      "source": [
        "from google.colab import drive\n",
        "drive.mount('/content/drive')"
      ],
      "execution_count": null,
      "outputs": []
    },
    {
      "cell_type": "markdown",
      "metadata": {
        "id": "JIHuj2eEy13f"
      },
      "source": [
        "## Install Stylegan2-ada-pytorch Prerequisites"
      ]
    },
    {
      "cell_type": "code",
      "metadata": {
        "id": "A8r0Ca7Hpo5F"
      },
      "source": [
        "import torch"
      ],
      "execution_count": 3,
      "outputs": []
    },
    {
      "cell_type": "markdown",
      "metadata": {
        "id": "2y195-nOz19D"
      },
      "source": [
        "Verify the next command results in \"1\".  If not, go back to the beginning and verify you have a GPU runtime."
      ]
    },
    {
      "cell_type": "code",
      "metadata": {
        "id": "KV07xnKTprut"
      },
      "source": [
        "torch.cuda.device_count()"
      ],
      "execution_count": null,
      "outputs": []
    },
    {
      "cell_type": "code",
      "metadata": {
        "id": "6jY44x99pusN"
      },
      "source": [
        "import torchvision"
      ],
      "execution_count": 5,
      "outputs": []
    },
    {
      "cell_type": "code",
      "metadata": {
        "id": "sZhoCdj4pREI"
      },
      "source": [
        "!pip install click requests tqdm pyspng ninja imageio-ffmpeg==0.4.3"
      ],
      "execution_count": null,
      "outputs": []
    },
    {
      "cell_type": "markdown",
      "metadata": {
        "id": "b94le1Kh_v1k"
      },
      "source": [
        "## Get the StyleGAN code"
      ]
    },
    {
      "cell_type": "code",
      "metadata": {
        "id": "najHDP7gMeFy"
      },
      "source": [
        "!git clone https://github.com/NVlabs/stylegan2-ada-pytorch.git"
      ],
      "execution_count": null,
      "outputs": []
    },
    {
      "cell_type": "code",
      "metadata": {
        "id": "GCYmJ2Z60WSe"
      },
      "source": [
        "mkdir /content/stylegan2-ada-pytorch/datasets"
      ],
      "execution_count": 8,
      "outputs": []
    },
    {
      "cell_type": "code",
      "metadata": {
        "id": "zRwQwWc9RNAD"
      },
      "source": [
        "%cd /content/stylegan2-ada-pytorch"
      ],
      "execution_count": null,
      "outputs": []
    },
    {
      "cell_type": "markdown",
      "metadata": {
        "id": "GDAf0tWzv-8J"
      },
      "source": [
        "# FIRST RUN (RUN ONLY ONCE)"
      ]
    },
    {
      "cell_type": "markdown",
      "metadata": {
        "id": "QTo4K3m8AEzh"
      },
      "source": [
        "## Create Folders on Your Google Drive\n",
        "\n",
        "If we accidentally close our browser or the Colab runtime disconnects, we will lose all of our training models and progress images.  Therefore we want to store the training data on our Google Drive.  The following cells will create a new folder on your Google Drive, **MachineLearningForArtists**.  Your training data will be stored in **MachineLearningForArtists/MyProject1024**"
      ]
    },
    {
      "cell_type": "code",
      "metadata": {
        "id": "MexWxMvLHP5O"
      },
      "source": [
        "mkdir /content/drive/MyDrive/MachineLearningForArtists"
      ],
      "execution_count": null,
      "outputs": []
    },
    {
      "cell_type": "code",
      "metadata": {
        "id": "Tja3AaYIHU9v"
      },
      "source": [
        "mkdir /content/drive/MyDrive/MachineLearningForArtists/MyProject1024"
      ],
      "execution_count": 11,
      "outputs": []
    },
    {
      "cell_type": "markdown",
      "metadata": {
        "id": "OS14PMAY6SUW"
      },
      "source": [
        "If you get an error \"cannot create directory\", it's probably because the folder already exists on your Google Drive and you can ignore the error."
      ]
    },
    {
      "cell_type": "markdown",
      "metadata": {
        "id": "wpk9vGb50lee"
      },
      "source": [
        "## Prepare Your Image Dataset for StyleGAN\n"
      ]
    },
    {
      "cell_type": "markdown",
      "metadata": {
        "id": "wD9Cb5OUIwuw"
      },
      "source": [
        "### Unzip your dataset\n",
        "\n",
        "***If your images are not zipped, skip this step.***\n",
        "\n",
        "If your images are in a .zip file, you will need to unzip them.   Copy the path to your .zip file and paste here under `zip_path`. \n"
      ]
    },
    {
      "cell_type": "code",
      "metadata": {
        "cellView": "form",
        "id": "yckdAoWWI8Al"
      },
      "source": [
        "zip_path = '' #@param {type:\"string\"}"
      ],
      "execution_count": null,
      "outputs": []
    },
    {
      "cell_type": "code",
      "metadata": {
        "id": "IcMEv7XdIwBu"
      },
      "source": [
        "!unzip \"$zip_path\""
      ],
      "execution_count": null,
      "outputs": []
    },
    {
      "cell_type": "markdown",
      "metadata": {
        "id": "K9q_opWqJh8y"
      },
      "source": [
        "### Prepare your dataset for StyleGAN\n"
      ]
    },
    {
      "cell_type": "markdown",
      "metadata": {
        "id": "k-L7EeWNJq2V"
      },
      "source": [
        "Copy the path to your unzipped dataset folder of images and paste into `dataset_path`"
      ]
    },
    {
      "cell_type": "code",
      "metadata": {
        "id": "QUQKuQVBInqo",
        "cellView": "form"
      },
      "source": [
        "dataset_path = '' #@param {type:\"string\"}"
      ],
      "execution_count": 12,
      "outputs": []
    },
    {
      "cell_type": "markdown",
      "metadata": {
        "id": "CRRzr1rCPdHc"
      },
      "source": [
        "The following commands will prepare your dataset.  It will crop all of your images to 1024x1024 pixels.  ***It will NOT overwrite your original images.***"
      ]
    },
    {
      "cell_type": "code",
      "metadata": {
        "id": "3XJdao4Pn9zP"
      },
      "source": [
        "!apt install imagemagick webp"
      ],
      "execution_count": null,
      "outputs": []
    },
    {
      "cell_type": "code",
      "metadata": {
        "id": "cD_RgCE1lypb"
      },
      "source": [
        "!mkdir /content/stylegan2-ada-pytorch/datasets/raw"
      ],
      "execution_count": 14,
      "outputs": []
    },
    {
      "cell_type": "code",
      "metadata": {
        "id": "kdnhnLK9g9sw"
      },
      "source": [
        "!mkdir /content/stylegan2-ada-pytorch/datasets/processed"
      ],
      "execution_count": 16,
      "outputs": []
    },
    {
      "cell_type": "code",
      "metadata": {
        "id": "cKig-ozwllZl"
      },
      "source": [
        "!cp \"$dataset_path\"/* /content/stylegan2-ada-pytorch/datasets/raw/"
      ],
      "execution_count": 15,
      "outputs": []
    },
    {
      "cell_type": "code",
      "metadata": {
        "id": "qFr2noZUndZl"
      },
      "source": [
        "%cd /content/stylegan2-ada-pytorch/datasets/raw/"
      ],
      "execution_count": null,
      "outputs": []
    },
    {
      "cell_type": "code",
      "metadata": {
        "id": "tTa3LDLCo0x4"
      },
      "source": [
        "!mogrify -type TrueColor -set colorspace sRGB -colorspace sRGB -resize 1024x1024 -background white -gravity center -extent 1024x1024 -format jpg -path ../processed *"
      ],
      "execution_count": 18,
      "outputs": []
    },
    {
      "cell_type": "code",
      "metadata": {
        "id": "WBg2Zy06dkqz"
      },
      "source": [
        "cd /content/stylegan2-ada-pytorch/"
      ],
      "execution_count": null,
      "outputs": []
    },
    {
      "cell_type": "code",
      "metadata": {
        "id": "_szXOaO0WI00"
      },
      "source": [
        "!python dataset_tool.py --source=/content/stylegan2-ada-pytorch/datasets/processed/ --dest=./datasets/stylegan_dataset1024.zip"
      ],
      "execution_count": null,
      "outputs": []
    },
    {
      "cell_type": "code",
      "metadata": {
        "id": "BJA-bph7vJbj"
      },
      "source": [
        "!cp ./datasets/stylegan_dataset1024.zip /content/drive/MyDrive/MachineLearningForArtists/MyProject1024/"
      ],
      "execution_count": 22,
      "outputs": []
    },
    {
      "cell_type": "markdown",
      "metadata": {
        "id": "HpR6A_qBAo8m"
      },
      "source": [
        "## Train with Transfer Learning using the Vases model\n",
        "\n",
        "This cell block will begin to train with your dataset using an existing .pkl model that has been trained with vases."
      ]
    },
    {
      "cell_type": "markdown",
      "metadata": {
        "id": "W0wAjEg12cyW"
      },
      "source": [
        "Download the vases model:"
      ]
    },
    {
      "cell_type": "code",
      "metadata": {
        "id": "vClLaqQhLhMT"
      },
      "source": [
        "!gdown --id 1-4gsVVtmD3hGapd2XJr-ovzYSOARHsJ5"
      ],
      "execution_count": null,
      "outputs": []
    },
    {
      "cell_type": "code",
      "metadata": {
        "id": "NuSkETl1V8pv"
      },
      "source": [
        "!python train.py --resume=/content/stylegan2-ada-pytorch/stylegan2-ada-pytorch-vases-9712.pkl --outdir=/content/drive/MyDrive/MachineLearningForArtists/MyProject1024 --data=./datasets/stylegan_dataset1024.zip --gpus=1 --cfg=paper1024 --mirror=1 --snap=10 --metrics=none"
      ],
      "execution_count": null,
      "outputs": []
    },
    {
      "cell_type": "markdown",
      "metadata": {
        "id": "NQVRH5rr4dki"
      },
      "source": [
        "## Go to bed :)\n",
        "\n",
        "Normal training of a dataset can take days.  Transfer learning will be quicker.\n",
        "\n",
        "Results are stored in your Google Drive under drive/MyDrive/MachineLearningForArtists/MyProject\n",
        "\n",
        "Each training run is stored in a separate directory.  The initial training run is stored in `00000-stylegan_dataset...`.  If you run training twice, the second run will be stored in `00001-stylegan_dataset...`.  And so on.\n",
        "\n",
        "Inside the training run directory you will see various files.  `reals.png` shows a sample of the training dataset.  In it you should see various images from your original dataset. `fakes000000.png` is a sample of generated images from the initial model.  `network-snapshot-XXXXXX.pkl` is the actual model which can be used later to generate \"fake\" images, videos, etc.\n",
        "\n",
        "As training progresses you will see more `fakes` & `network-snapshot` files created.\n"
      ]
    },
    {
      "cell_type": "markdown",
      "metadata": {
        "id": "zRG9NlIXwI7S"
      },
      "source": [
        "# RESUME TRAINING\n",
        "\n",
        "***Make sure you run the above section \"SETUP (MUST RUN EACH TIME)\" before resuming training.***\n"
      ]
    },
    {
      "cell_type": "code",
      "metadata": {
        "id": "_aIf9TDOvloK"
      },
      "source": [
        "%cd /content/stylegan2-ada-pytorch"
      ],
      "execution_count": null,
      "outputs": []
    },
    {
      "cell_type": "markdown",
      "metadata": {
        "id": "e6RnMcgvwQer"
      },
      "source": [
        "Copy previously saved datset"
      ]
    },
    {
      "cell_type": "code",
      "metadata": {
        "id": "Jzi79zpLvQqI"
      },
      "source": [
        "!cp /content/drive/MyDrive/MachineLearningForArtists/MyProject1024/stylegan_dataset1024.zip ./datasets/"
      ],
      "execution_count": null,
      "outputs": []
    },
    {
      "cell_type": "markdown",
      "metadata": {
        "id": "7DtT8Dd-drmh"
      },
      "source": [
        "If you had to stop training, the browser window closed, or the Colab session timed out (12-24 hours), you can resume training by using a .pkl file stored on your Google Drive.  For your project, this file will be in `drive/MyDrive/MachineLearningForArtists/MyProject1024/0000X-stylegan_datset...`"
      ]
    },
    {
      "cell_type": "code",
      "metadata": {
        "id": "Y-mxVLR_d8Sn",
        "cellView": "form"
      },
      "source": [
        "#@title PKL File Path \n",
        "#@markdown Copy & Paste .pkl file path here:\n",
        "pkl_file = '' #@param {type:\"string\"}\n"
      ],
      "execution_count": null,
      "outputs": []
    },
    {
      "cell_type": "markdown",
      "metadata": {
        "id": "E-5Eyr6AjLh3"
      },
      "source": [
        "Run the training, resuming with the last save .pkl file.  Results will be stored in your Google Drive under `MachineLearningForArtists/MyProject1024`"
      ]
    },
    {
      "cell_type": "code",
      "metadata": {
        "id": "eLR4E3HGvYe9"
      },
      "source": [
        "cd /content/stylegan2-ada-pytorch/"
      ],
      "execution_count": null,
      "outputs": []
    },
    {
      "cell_type": "code",
      "metadata": {
        "id": "5V5YcgzBfcv2"
      },
      "source": [
        "!python train.py --resume=$pkl_file --outdir=/content/drive/MyDrive/MachineLearningForArtists/MyProject1024 --data=./datasets/stylegan_dataset1024.zip --gpus=1 --cfg=paper1024 --mirror=1 --snap=10 --metrics=none\n"
      ],
      "execution_count": null,
      "outputs": []
    }
  ]
}