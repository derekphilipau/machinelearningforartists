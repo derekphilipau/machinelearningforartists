{
  "nbformat": 4,
  "nbformat_minor": 0,
  "metadata": {
    "colab": {
      "name": "PIFuHD Demo",
      "provenance": [],
      "toc_visible": true,
      "include_colab_link": true
    },
    "kernelspec": {
      "name": "python3",
      "display_name": "Python 3"
    },
    "accelerator": "GPU",
    "widgets": {
      "application/vnd.jupyter.widget-state+json": {
        "efbcebdbc1ff498f808bf07d5727ca66": {
          "model_module": "@jupyter-widgets/controls",
          "model_name": "HBoxModel",
          "model_module_version": "1.5.0",
          "state": {
            "_dom_classes": [],
            "_model_module": "@jupyter-widgets/controls",
            "_model_module_version": "1.5.0",
            "_model_name": "HBoxModel",
            "_view_count": null,
            "_view_module": "@jupyter-widgets/controls",
            "_view_module_version": "1.5.0",
            "_view_name": "HBoxView",
            "box_style": "",
            "children": [
              "IPY_MODEL_283ae96abc31471bb3ef73dd2f2ea060",
              "IPY_MODEL_4f0849757cba4d21a68b83490dab3a52",
              "IPY_MODEL_120b6024751e4c98bf3f5781037542d3"
            ],
            "layout": "IPY_MODEL_e8cab20d0660411588aa0fef0f740ef5"
          }
        },
        "283ae96abc31471bb3ef73dd2f2ea060": {
          "model_module": "@jupyter-widgets/controls",
          "model_name": "HTMLModel",
          "model_module_version": "1.5.0",
          "state": {
            "_dom_classes": [],
            "_model_module": "@jupyter-widgets/controls",
            "_model_module_version": "1.5.0",
            "_model_name": "HTMLModel",
            "_view_count": null,
            "_view_module": "@jupyter-widgets/controls",
            "_view_module_version": "1.5.0",
            "_view_name": "HTMLView",
            "description": "",
            "description_tooltip": null,
            "layout": "IPY_MODEL_6fb563843100482e82b98fbdd9400236",
            "placeholder": "​",
            "style": "IPY_MODEL_00b386ea1157459280635e9a1d9aaea5",
            "value": "100%"
          }
        },
        "4f0849757cba4d21a68b83490dab3a52": {
          "model_module": "@jupyter-widgets/controls",
          "model_name": "FloatProgressModel",
          "model_module_version": "1.5.0",
          "state": {
            "_dom_classes": [],
            "_model_module": "@jupyter-widgets/controls",
            "_model_module_version": "1.5.0",
            "_model_name": "FloatProgressModel",
            "_view_count": null,
            "_view_module": "@jupyter-widgets/controls",
            "_view_module_version": "1.5.0",
            "_view_name": "ProgressView",
            "bar_style": "success",
            "description": "",
            "description_tooltip": null,
            "layout": "IPY_MODEL_3634f1c9201b4c37bfdd5fdbc0e079e7",
            "max": 90,
            "min": 0,
            "orientation": "horizontal",
            "style": "IPY_MODEL_e955867120834220ae66d594bdf70ac3",
            "value": 90
          }
        },
        "120b6024751e4c98bf3f5781037542d3": {
          "model_module": "@jupyter-widgets/controls",
          "model_name": "HTMLModel",
          "model_module_version": "1.5.0",
          "state": {
            "_dom_classes": [],
            "_model_module": "@jupyter-widgets/controls",
            "_model_module_version": "1.5.0",
            "_model_name": "HTMLModel",
            "_view_count": null,
            "_view_module": "@jupyter-widgets/controls",
            "_view_module_version": "1.5.0",
            "_view_name": "HTMLView",
            "description": "",
            "description_tooltip": null,
            "layout": "IPY_MODEL_460ef3d4051c418bad3d18bb28aad7c6",
            "placeholder": "​",
            "style": "IPY_MODEL_6e85987a628b4572b33e04cc05141a0d",
            "value": " 90/90 [00:04&lt;00:00, 26.78it/s]"
          }
        },
        "e8cab20d0660411588aa0fef0f740ef5": {
          "model_module": "@jupyter-widgets/base",
          "model_name": "LayoutModel",
          "model_module_version": "1.2.0",
          "state": {
            "_model_module": "@jupyter-widgets/base",
            "_model_module_version": "1.2.0",
            "_model_name": "LayoutModel",
            "_view_count": null,
            "_view_module": "@jupyter-widgets/base",
            "_view_module_version": "1.2.0",
            "_view_name": "LayoutView",
            "align_content": null,
            "align_items": null,
            "align_self": null,
            "border": null,
            "bottom": null,
            "display": null,
            "flex": null,
            "flex_flow": null,
            "grid_area": null,
            "grid_auto_columns": null,
            "grid_auto_flow": null,
            "grid_auto_rows": null,
            "grid_column": null,
            "grid_gap": null,
            "grid_row": null,
            "grid_template_areas": null,
            "grid_template_columns": null,
            "grid_template_rows": null,
            "height": null,
            "justify_content": null,
            "justify_items": null,
            "left": null,
            "margin": null,
            "max_height": null,
            "max_width": null,
            "min_height": null,
            "min_width": null,
            "object_fit": null,
            "object_position": null,
            "order": null,
            "overflow": null,
            "overflow_x": null,
            "overflow_y": null,
            "padding": null,
            "right": null,
            "top": null,
            "visibility": null,
            "width": null
          }
        },
        "6fb563843100482e82b98fbdd9400236": {
          "model_module": "@jupyter-widgets/base",
          "model_name": "LayoutModel",
          "model_module_version": "1.2.0",
          "state": {
            "_model_module": "@jupyter-widgets/base",
            "_model_module_version": "1.2.0",
            "_model_name": "LayoutModel",
            "_view_count": null,
            "_view_module": "@jupyter-widgets/base",
            "_view_module_version": "1.2.0",
            "_view_name": "LayoutView",
            "align_content": null,
            "align_items": null,
            "align_self": null,
            "border": null,
            "bottom": null,
            "display": null,
            "flex": null,
            "flex_flow": null,
            "grid_area": null,
            "grid_auto_columns": null,
            "grid_auto_flow": null,
            "grid_auto_rows": null,
            "grid_column": null,
            "grid_gap": null,
            "grid_row": null,
            "grid_template_areas": null,
            "grid_template_columns": null,
            "grid_template_rows": null,
            "height": null,
            "justify_content": null,
            "justify_items": null,
            "left": null,
            "margin": null,
            "max_height": null,
            "max_width": null,
            "min_height": null,
            "min_width": null,
            "object_fit": null,
            "object_position": null,
            "order": null,
            "overflow": null,
            "overflow_x": null,
            "overflow_y": null,
            "padding": null,
            "right": null,
            "top": null,
            "visibility": null,
            "width": null
          }
        },
        "00b386ea1157459280635e9a1d9aaea5": {
          "model_module": "@jupyter-widgets/controls",
          "model_name": "DescriptionStyleModel",
          "model_module_version": "1.5.0",
          "state": {
            "_model_module": "@jupyter-widgets/controls",
            "_model_module_version": "1.5.0",
            "_model_name": "DescriptionStyleModel",
            "_view_count": null,
            "_view_module": "@jupyter-widgets/base",
            "_view_module_version": "1.2.0",
            "_view_name": "StyleView",
            "description_width": ""
          }
        },
        "3634f1c9201b4c37bfdd5fdbc0e079e7": {
          "model_module": "@jupyter-widgets/base",
          "model_name": "LayoutModel",
          "model_module_version": "1.2.0",
          "state": {
            "_model_module": "@jupyter-widgets/base",
            "_model_module_version": "1.2.0",
            "_model_name": "LayoutModel",
            "_view_count": null,
            "_view_module": "@jupyter-widgets/base",
            "_view_module_version": "1.2.0",
            "_view_name": "LayoutView",
            "align_content": null,
            "align_items": null,
            "align_self": null,
            "border": null,
            "bottom": null,
            "display": null,
            "flex": null,
            "flex_flow": null,
            "grid_area": null,
            "grid_auto_columns": null,
            "grid_auto_flow": null,
            "grid_auto_rows": null,
            "grid_column": null,
            "grid_gap": null,
            "grid_row": null,
            "grid_template_areas": null,
            "grid_template_columns": null,
            "grid_template_rows": null,
            "height": null,
            "justify_content": null,
            "justify_items": null,
            "left": null,
            "margin": null,
            "max_height": null,
            "max_width": null,
            "min_height": null,
            "min_width": null,
            "object_fit": null,
            "object_position": null,
            "order": null,
            "overflow": null,
            "overflow_x": null,
            "overflow_y": null,
            "padding": null,
            "right": null,
            "top": null,
            "visibility": null,
            "width": null
          }
        },
        "e955867120834220ae66d594bdf70ac3": {
          "model_module": "@jupyter-widgets/controls",
          "model_name": "ProgressStyleModel",
          "model_module_version": "1.5.0",
          "state": {
            "_model_module": "@jupyter-widgets/controls",
            "_model_module_version": "1.5.0",
            "_model_name": "ProgressStyleModel",
            "_view_count": null,
            "_view_module": "@jupyter-widgets/base",
            "_view_module_version": "1.2.0",
            "_view_name": "StyleView",
            "bar_color": null,
            "description_width": ""
          }
        },
        "460ef3d4051c418bad3d18bb28aad7c6": {
          "model_module": "@jupyter-widgets/base",
          "model_name": "LayoutModel",
          "model_module_version": "1.2.0",
          "state": {
            "_model_module": "@jupyter-widgets/base",
            "_model_module_version": "1.2.0",
            "_model_name": "LayoutModel",
            "_view_count": null,
            "_view_module": "@jupyter-widgets/base",
            "_view_module_version": "1.2.0",
            "_view_name": "LayoutView",
            "align_content": null,
            "align_items": null,
            "align_self": null,
            "border": null,
            "bottom": null,
            "display": null,
            "flex": null,
            "flex_flow": null,
            "grid_area": null,
            "grid_auto_columns": null,
            "grid_auto_flow": null,
            "grid_auto_rows": null,
            "grid_column": null,
            "grid_gap": null,
            "grid_row": null,
            "grid_template_areas": null,
            "grid_template_columns": null,
            "grid_template_rows": null,
            "height": null,
            "justify_content": null,
            "justify_items": null,
            "left": null,
            "margin": null,
            "max_height": null,
            "max_width": null,
            "min_height": null,
            "min_width": null,
            "object_fit": null,
            "object_position": null,
            "order": null,
            "overflow": null,
            "overflow_x": null,
            "overflow_y": null,
            "padding": null,
            "right": null,
            "top": null,
            "visibility": null,
            "width": null
          }
        },
        "6e85987a628b4572b33e04cc05141a0d": {
          "model_module": "@jupyter-widgets/controls",
          "model_name": "DescriptionStyleModel",
          "model_module_version": "1.5.0",
          "state": {
            "_model_module": "@jupyter-widgets/controls",
            "_model_module_version": "1.5.0",
            "_model_name": "DescriptionStyleModel",
            "_view_count": null,
            "_view_module": "@jupyter-widgets/base",
            "_view_module_version": "1.2.0",
            "_view_name": "StyleView",
            "description_width": ""
          }
        }
      }
    }
  },
  "cells": [
    {
      "cell_type": "markdown",
      "metadata": {
        "id": "view-in-github",
        "colab_type": "text"
      },
      "source": [
        "<a href=\"https://colab.research.google.com/github/derekphilipau/machinelearningforartists/blob/main/PIFuHD_Demo.ipynb\" target=\"_parent\"><img src=\"https://colab.research.google.com/assets/colab-badge.svg\" alt=\"Open In Colab\"/></a>"
      ]
    },
    {
      "cell_type": "markdown",
      "metadata": {
        "id": "eclLG4xlJRIE"
      },
      "source": [
        "# PIFuHD Demo: https://shunsukesaito.github.io/PIFuHD/\n",
        "\n",
        "![](https://shunsukesaito.github.io/PIFuHD/resources/images/pifuhd.gif)\n",
        "\n",
        "Made by [![Follow](https://img.shields.io/twitter/follow/psyth91?style=social)](https://twitter.com/psyth91)\n",
        "\n",
        "To see how the model works, visit the project repository.\n",
        "\n",
        "[![GitHub stars](https://img.shields.io/github/stars/facebookresearch/pifuhd?style=social)](https://github.com/facebookresearch/pifuhd)"
      ]
    },
    {
      "cell_type": "markdown",
      "source": [
        "# March 24, 2023 Fix\n",
        "\n",
        "This colab is old and some things were broken.  I've updated the colab to get it working again, but no guarantees it will continue to work in the future. -Derek"
      ],
      "metadata": {
        "id": "BTlGnVy0ACIc"
      }
    },
    {
      "cell_type": "markdown",
      "metadata": {
        "id": "wmFdsTvLKtBO"
      },
      "source": [
        "## Note\n",
        "Make sure that your runtime type is 'Python 3 with GPU acceleration'. To do so, go to Edit > Notebook settings > Hardware Accelerator > Select \"GPU\"."
      ]
    },
    {
      "cell_type": "markdown",
      "metadata": {
        "id": "1TfPAtL4CyZw"
      },
      "source": [
        "## More Info\n",
        "- Paper: https://arxiv.org/pdf/2004.00452.pdf\n",
        "- Repo: https://github.com/facebookresearch/pifuhd\n",
        "- Project Page: https://shunsukesaito.github.io/PIFuHD/\n",
        "- 1-minute/5-minute Presentation (see below)"
      ]
    },
    {
      "cell_type": "code",
      "metadata": {
        "id": "5DDpqpf2BABR",
        "colab": {
          "base_uri": "https://localhost:8080/",
          "height": 930
        },
        "outputId": "679345c3-b5b3-481a-f293-ea904727c183"
      },
      "source": [
        "import IPython\n",
        "IPython.display.HTML('<h2>1-Minute Presentation</h2><iframe width=\"720\" height=\"405\" src=\"https://www.youtube.com/embed/-1XYTmm8HhE\" frameborder=\"0\" allow=\"accelerometer; autoplay; encrypted-media; gyroscope; picture-in-picture\" allowfullscreen></iframe><br><h2>5-Minute Presentation</h2><iframe width=\"720\" height=\"405\" src=\"https://www.youtube.com/embed/uEDqCxvF5yc\" frameborder=\"0\" allow=\"accelerometer; autoplay; encrypted-media; gyroscope; picture-in-picture\" allowfullscreen></iframe>')"
      ],
      "execution_count": null,
      "outputs": [
        {
          "output_type": "execute_result",
          "data": {
            "text/html": [
              "<h2>1-Minute Presentation</h2><iframe width=\"720\" height=\"405\" src=\"https://www.youtube.com/embed/-1XYTmm8HhE\" frameborder=\"0\" allow=\"accelerometer; autoplay; encrypted-media; gyroscope; picture-in-picture\" allowfullscreen></iframe><br><h2>5-Minute Presentation</h2><iframe width=\"720\" height=\"405\" src=\"https://www.youtube.com/embed/uEDqCxvF5yc\" frameborder=\"0\" allow=\"accelerometer; autoplay; encrypted-media; gyroscope; picture-in-picture\" allowfullscreen></iframe>"
            ],
            "text/plain": [
              "<IPython.core.display.HTML object>"
            ]
          },
          "metadata": {
            "tags": []
          },
          "execution_count": 9
        }
      ]
    },
    {
      "cell_type": "markdown",
      "metadata": {
        "id": "8vZaAyhUJ9QC"
      },
      "source": [
        "## Requirements\n",
        "- Python 3\n",
        "- PyTorch tested on 1.4.0\n",
        "- json\n",
        "- PIL\n",
        "- skimage\n",
        "- tqdm\n",
        "- numpy\n",
        "- cv2"
      ]
    },
    {
      "cell_type": "markdown",
      "metadata": {
        "id": "s0YWv3yk58Vx"
      },
      "source": [
        "## Install pytorch3d for Rendering"
      ]
    },
    {
      "cell_type": "markdown",
      "source": [
        "Removed installs of torch, torchvision, just use current colab default.  Special install for pytorch3d."
      ],
      "metadata": {
        "id": "9yTIBjX5AJvc"
      }
    },
    {
      "cell_type": "code",
      "metadata": {
        "id": "7m_C4kqt52d-"
      },
      "source": [
        "#!pip install 'torch==1.6.0+cu101' -f https://download.pytorch.org/whl/torch_stable.html"
      ],
      "execution_count": null,
      "outputs": []
    },
    {
      "cell_type": "code",
      "metadata": {
        "id": "yFhjP7E755nl"
      },
      "source": [
        "#!pip install 'torchvision==0.7.0+cu101' -f https://download.pytorch.org/whl/torch_stable.html"
      ],
      "execution_count": null,
      "outputs": []
    },
    {
      "cell_type": "code",
      "metadata": {
        "id": "aRGE6Nmr55ZT"
      },
      "source": [
        "#!pip install 'pytorch3d==0.2.5'"
      ],
      "execution_count": null,
      "outputs": []
    },
    {
      "cell_type": "markdown",
      "source": [
        "Special install of pytorch3d ([see here](https://github.com/facebookresearch/pytorch3d/blob/main/INSTALL.md#3-install-wheels-for-linux))"
      ],
      "metadata": {
        "id": "bI3e4RQUAbyI"
      }
    },
    {
      "cell_type": "code",
      "source": [
        "import sys\n",
        "import torch\n",
        "pyt_version_str=torch.__version__.split(\"+\")[0].replace(\".\", \"\")\n",
        "version_str=\"\".join([\n",
        "    f\"py3{sys.version_info.minor}_cu\",\n",
        "    torch.version.cuda.replace(\".\",\"\"),\n",
        "    f\"_pyt{pyt_version_str}\"\n",
        "])\n",
        "!pip install fvcore iopath\n",
        "!pip install --no-index --no-cache-dir pytorch3d -f https://dl.fbaipublicfiles.com/pytorch3d/packaging/wheels/{version_str}/download.html"
      ],
      "metadata": {
        "id": "HsLF3PTTAWB4"
      },
      "execution_count": null,
      "outputs": []
    },
    {
      "cell_type": "markdown",
      "source": [
        "Need to downgrade scikit-image ([see here](https://github.com/shunsukesaito/PIFu/issues/23#issuecomment-1096546516))"
      ],
      "metadata": {
        "id": "Igoe55YBAiVZ"
      }
    },
    {
      "cell_type": "code",
      "source": [
        "pip install scikit-image==0.18.3"
      ],
      "metadata": {
        "id": "bytB0BsxAkOR"
      },
      "execution_count": null,
      "outputs": []
    },
    {
      "cell_type": "markdown",
      "metadata": {
        "id": "vTgULINzHw_l"
      },
      "source": [
        "## IMPORTANT: RESTART RUNTIME"
      ]
    },
    {
      "cell_type": "markdown",
      "metadata": {
        "id": "WYhlsDkg1Hwb"
      },
      "source": [
        "## Clone PIFuHD repository"
      ]
    },
    {
      "cell_type": "markdown",
      "metadata": {
        "id": "id-PHOHn6Dv7"
      },
      "source": []
    },
    {
      "cell_type": "code",
      "metadata": {
        "id": "BmpEwdOd1G1z"
      },
      "source": [
        "!git clone https://github.com/facebookresearch/pifuhd"
      ],
      "execution_count": null,
      "outputs": []
    },
    {
      "cell_type": "markdown",
      "metadata": {
        "id": "QvQm-A8ESKb2"
      },
      "source": [
        "## Configure input data"
      ]
    },
    {
      "cell_type": "code",
      "metadata": {
        "id": "xvle9T10fB6g"
      },
      "source": [
        "cd /content/pifuhd/sample_images"
      ],
      "execution_count": null,
      "outputs": []
    },
    {
      "cell_type": "markdown",
      "metadata": {
        "id": "9SI7Ye1JfIim"
      },
      "source": [
        "**If you want to upload your own picture, run the next cell**. Otherwise, go to the next next cell. Currently PNG, JPEG files are supported.\n",
        "\n",
        "**YOUR IMAGE SHOULD BE AROUND 60KB IN SIZE, OTHERWISE YOU WILL GET AN OUT OF MEMORY ERROR**"
      ]
    },
    {
      "cell_type": "code",
      "metadata": {
        "id": "jaV_7Yi8fM-B",
        "colab": {
          "base_uri": "https://localhost:8080/",
          "height": 73
        },
        "outputId": "79f1167d-4ba3-4082-af70-a1256e699b16"
      },
      "source": [
        "from google.colab import files\n",
        "\n",
        "filename = list(files.upload().keys())[0]"
      ],
      "execution_count": 3,
      "outputs": [
        {
          "output_type": "display_data",
          "data": {
            "text/plain": [
              "<IPython.core.display.HTML object>"
            ],
            "text/html": [
              "\n",
              "     <input type=\"file\" id=\"files-5033804f-d68c-4077-935b-bf091a85581b\" name=\"files[]\" multiple disabled\n",
              "        style=\"border:none\" />\n",
              "     <output id=\"result-5033804f-d68c-4077-935b-bf091a85581b\">\n",
              "      Upload widget is only available when the cell has been executed in the\n",
              "      current browser session. Please rerun this cell to enable.\n",
              "      </output>\n",
              "      <script>// Copyright 2017 Google LLC\n",
              "//\n",
              "// Licensed under the Apache License, Version 2.0 (the \"License\");\n",
              "// you may not use this file except in compliance with the License.\n",
              "// You may obtain a copy of the License at\n",
              "//\n",
              "//      http://www.apache.org/licenses/LICENSE-2.0\n",
              "//\n",
              "// Unless required by applicable law or agreed to in writing, software\n",
              "// distributed under the License is distributed on an \"AS IS\" BASIS,\n",
              "// WITHOUT WARRANTIES OR CONDITIONS OF ANY KIND, either express or implied.\n",
              "// See the License for the specific language governing permissions and\n",
              "// limitations under the License.\n",
              "\n",
              "/**\n",
              " * @fileoverview Helpers for google.colab Python module.\n",
              " */\n",
              "(function(scope) {\n",
              "function span(text, styleAttributes = {}) {\n",
              "  const element = document.createElement('span');\n",
              "  element.textContent = text;\n",
              "  for (const key of Object.keys(styleAttributes)) {\n",
              "    element.style[key] = styleAttributes[key];\n",
              "  }\n",
              "  return element;\n",
              "}\n",
              "\n",
              "// Max number of bytes which will be uploaded at a time.\n",
              "const MAX_PAYLOAD_SIZE = 100 * 1024;\n",
              "\n",
              "function _uploadFiles(inputId, outputId) {\n",
              "  const steps = uploadFilesStep(inputId, outputId);\n",
              "  const outputElement = document.getElementById(outputId);\n",
              "  // Cache steps on the outputElement to make it available for the next call\n",
              "  // to uploadFilesContinue from Python.\n",
              "  outputElement.steps = steps;\n",
              "\n",
              "  return _uploadFilesContinue(outputId);\n",
              "}\n",
              "\n",
              "// This is roughly an async generator (not supported in the browser yet),\n",
              "// where there are multiple asynchronous steps and the Python side is going\n",
              "// to poll for completion of each step.\n",
              "// This uses a Promise to block the python side on completion of each step,\n",
              "// then passes the result of the previous step as the input to the next step.\n",
              "function _uploadFilesContinue(outputId) {\n",
              "  const outputElement = document.getElementById(outputId);\n",
              "  const steps = outputElement.steps;\n",
              "\n",
              "  const next = steps.next(outputElement.lastPromiseValue);\n",
              "  return Promise.resolve(next.value.promise).then((value) => {\n",
              "    // Cache the last promise value to make it available to the next\n",
              "    // step of the generator.\n",
              "    outputElement.lastPromiseValue = value;\n",
              "    return next.value.response;\n",
              "  });\n",
              "}\n",
              "\n",
              "/**\n",
              " * Generator function which is called between each async step of the upload\n",
              " * process.\n",
              " * @param {string} inputId Element ID of the input file picker element.\n",
              " * @param {string} outputId Element ID of the output display.\n",
              " * @return {!Iterable<!Object>} Iterable of next steps.\n",
              " */\n",
              "function* uploadFilesStep(inputId, outputId) {\n",
              "  const inputElement = document.getElementById(inputId);\n",
              "  inputElement.disabled = false;\n",
              "\n",
              "  const outputElement = document.getElementById(outputId);\n",
              "  outputElement.innerHTML = '';\n",
              "\n",
              "  const pickedPromise = new Promise((resolve) => {\n",
              "    inputElement.addEventListener('change', (e) => {\n",
              "      resolve(e.target.files);\n",
              "    });\n",
              "  });\n",
              "\n",
              "  const cancel = document.createElement('button');\n",
              "  inputElement.parentElement.appendChild(cancel);\n",
              "  cancel.textContent = 'Cancel upload';\n",
              "  const cancelPromise = new Promise((resolve) => {\n",
              "    cancel.onclick = () => {\n",
              "      resolve(null);\n",
              "    };\n",
              "  });\n",
              "\n",
              "  // Wait for the user to pick the files.\n",
              "  const files = yield {\n",
              "    promise: Promise.race([pickedPromise, cancelPromise]),\n",
              "    response: {\n",
              "      action: 'starting',\n",
              "    }\n",
              "  };\n",
              "\n",
              "  cancel.remove();\n",
              "\n",
              "  // Disable the input element since further picks are not allowed.\n",
              "  inputElement.disabled = true;\n",
              "\n",
              "  if (!files) {\n",
              "    return {\n",
              "      response: {\n",
              "        action: 'complete',\n",
              "      }\n",
              "    };\n",
              "  }\n",
              "\n",
              "  for (const file of files) {\n",
              "    const li = document.createElement('li');\n",
              "    li.append(span(file.name, {fontWeight: 'bold'}));\n",
              "    li.append(span(\n",
              "        `(${file.type || 'n/a'}) - ${file.size} bytes, ` +\n",
              "        `last modified: ${\n",
              "            file.lastModifiedDate ? file.lastModifiedDate.toLocaleDateString() :\n",
              "                                    'n/a'} - `));\n",
              "    const percent = span('0% done');\n",
              "    li.appendChild(percent);\n",
              "\n",
              "    outputElement.appendChild(li);\n",
              "\n",
              "    const fileDataPromise = new Promise((resolve) => {\n",
              "      const reader = new FileReader();\n",
              "      reader.onload = (e) => {\n",
              "        resolve(e.target.result);\n",
              "      };\n",
              "      reader.readAsArrayBuffer(file);\n",
              "    });\n",
              "    // Wait for the data to be ready.\n",
              "    let fileData = yield {\n",
              "      promise: fileDataPromise,\n",
              "      response: {\n",
              "        action: 'continue',\n",
              "      }\n",
              "    };\n",
              "\n",
              "    // Use a chunked sending to avoid message size limits. See b/62115660.\n",
              "    let position = 0;\n",
              "    do {\n",
              "      const length = Math.min(fileData.byteLength - position, MAX_PAYLOAD_SIZE);\n",
              "      const chunk = new Uint8Array(fileData, position, length);\n",
              "      position += length;\n",
              "\n",
              "      const base64 = btoa(String.fromCharCode.apply(null, chunk));\n",
              "      yield {\n",
              "        response: {\n",
              "          action: 'append',\n",
              "          file: file.name,\n",
              "          data: base64,\n",
              "        },\n",
              "      };\n",
              "\n",
              "      let percentDone = fileData.byteLength === 0 ?\n",
              "          100 :\n",
              "          Math.round((position / fileData.byteLength) * 100);\n",
              "      percent.textContent = `${percentDone}% done`;\n",
              "\n",
              "    } while (position < fileData.byteLength);\n",
              "  }\n",
              "\n",
              "  // All done.\n",
              "  yield {\n",
              "    response: {\n",
              "      action: 'complete',\n",
              "    }\n",
              "  };\n",
              "}\n",
              "\n",
              "scope.google = scope.google || {};\n",
              "scope.google.colab = scope.google.colab || {};\n",
              "scope.google.colab._files = {\n",
              "  _uploadFiles,\n",
              "  _uploadFilesContinue,\n",
              "};\n",
              "})(self);\n",
              "</script> "
            ]
          },
          "metadata": {}
        },
        {
          "output_type": "stream",
          "name": "stdout",
          "text": [
            "Saving istockphoto-1307214736-170667a.jpg to istockphoto-1307214736-170667a.jpg\n"
          ]
        }
      ]
    },
    {
      "cell_type": "code",
      "metadata": {
        "id": "AEzmmB01SOZp"
      },
      "source": [
        "import os\n",
        "\n",
        "try:\n",
        "  image_path = '/content/pifuhd/sample_images/%s' % filename\n",
        "except:\n",
        "  image_path = '/content/pifuhd/sample_images/test.png' # example image\n",
        "image_dir = os.path.dirname(image_path)\n",
        "file_name = os.path.splitext(os.path.basename(image_path))[0]\n",
        "\n",
        "# output pathes\n",
        "obj_path = '/content/pifuhd/results/pifuhd_final/recon/result_%s_256.obj' % file_name\n",
        "out_img_path = '/content/pifuhd/results/pifuhd_final/recon/result_%s_256.png' % file_name\n",
        "video_path = '/content/pifuhd/results/pifuhd_final/recon/result_%s_256.mp4' % file_name\n",
        "video_display_path = '/content/pifuhd/results/pifuhd_final/result_%s_256_display.mp4' % file_name"
      ],
      "execution_count": 4,
      "outputs": []
    },
    {
      "cell_type": "code",
      "metadata": {
        "id": "896EC7iQfXkj",
        "colab": {
          "base_uri": "https://localhost:8080/"
        },
        "outputId": "e986531f-2520-41ef-f2be-62c7b3feba2f"
      },
      "source": [
        "cd /content"
      ],
      "execution_count": 5,
      "outputs": [
        {
          "output_type": "stream",
          "name": "stdout",
          "text": [
            "/content\n"
          ]
        }
      ]
    },
    {
      "cell_type": "markdown",
      "metadata": {
        "id": "JbVmda9J5TDL"
      },
      "source": [
        "## Preprocess (for cropping image)"
      ]
    },
    {
      "cell_type": "code",
      "metadata": {
        "id": "UtMjWGNU5STe",
        "colab": {
          "base_uri": "https://localhost:8080/"
        },
        "outputId": "2d7a1cfc-aae7-4f63-8c65-a2bfc61aba47"
      },
      "source": [
        "!git clone https://github.com/Daniil-Osokin/lightweight-human-pose-estimation.pytorch.git"
      ],
      "execution_count": 6,
      "outputs": [
        {
          "output_type": "stream",
          "name": "stdout",
          "text": [
            "fatal: destination path 'lightweight-human-pose-estimation.pytorch' already exists and is not an empty directory.\n"
          ]
        }
      ]
    },
    {
      "cell_type": "code",
      "metadata": {
        "id": "F-vYklhI5dab",
        "colab": {
          "base_uri": "https://localhost:8080/"
        },
        "outputId": "e9624cf3-7a3b-4433-d2d4-993533529f2c"
      },
      "source": [
        "cd /content/lightweight-human-pose-estimation.pytorch/"
      ],
      "execution_count": 7,
      "outputs": [
        {
          "output_type": "stream",
          "name": "stdout",
          "text": [
            "/content/lightweight-human-pose-estimation.pytorch\n"
          ]
        }
      ]
    },
    {
      "cell_type": "code",
      "metadata": {
        "id": "dRod9SOu77I6",
        "colab": {
          "base_uri": "https://localhost:8080/"
        },
        "outputId": "358d35c9-7e8a-4df9-89c7-b6667a9114f0"
      },
      "source": [
        "!wget https://download.01.org/opencv/openvino_training_extensions/models/human_pose_estimation/checkpoint_iter_370000.pth"
      ],
      "execution_count": 8,
      "outputs": [
        {
          "output_type": "stream",
          "name": "stdout",
          "text": [
            "--2023-03-24 23:47:08--  https://download.01.org/opencv/openvino_training_extensions/models/human_pose_estimation/checkpoint_iter_370000.pth\n",
            "Resolving download.01.org (download.01.org)... 104.69.172.47, 2600:1413:1:593::4b21, 2600:1413:1:59d::4b21\n",
            "Connecting to download.01.org (download.01.org)|104.69.172.47|:443... connected.\n",
            "HTTP request sent, awaiting response... 200 OK\n",
            "Length: 87959810 (84M) [application/octet-stream]\n",
            "Saving to: ‘checkpoint_iter_370000.pth.2’\n",
            "\n",
            "checkpoint_iter_370 100%[===================>]  83.88M   296MB/s    in 0.3s    \n",
            "\n",
            "2023-03-24 23:47:09 (296 MB/s) - ‘checkpoint_iter_370000.pth.2’ saved [87959810/87959810]\n",
            "\n"
          ]
        }
      ]
    },
    {
      "cell_type": "code",
      "metadata": {
        "id": "PdRcDXe38lHB"
      },
      "source": [
        "import torch\n",
        "import cv2\n",
        "import numpy as np\n",
        "from models.with_mobilenet import PoseEstimationWithMobileNet\n",
        "from modules.keypoints import extract_keypoints, group_keypoints\n",
        "from modules.load_state import load_state\n",
        "from modules.pose import Pose, track_poses\n",
        "import demo\n",
        "\n",
        "def get_rect(net, images, height_size):\n",
        "    net = net.eval()\n",
        "\n",
        "    stride = 8\n",
        "    upsample_ratio = 4\n",
        "    num_keypoints = Pose.num_kpts\n",
        "    previous_poses = []\n",
        "    delay = 33\n",
        "    for image in images:\n",
        "        rect_path = image.replace('.%s' % (image.split('.')[-1]), '_rect.txt')\n",
        "        img = cv2.imread(image, cv2.IMREAD_COLOR)\n",
        "        orig_img = img.copy()\n",
        "        orig_img = img.copy()\n",
        "        heatmaps, pafs, scale, pad = demo.infer_fast(net, img, height_size, stride, upsample_ratio, cpu=False)\n",
        "\n",
        "        total_keypoints_num = 0\n",
        "        all_keypoints_by_type = []\n",
        "        for kpt_idx in range(num_keypoints):  # 19th for bg\n",
        "            total_keypoints_num += extract_keypoints(heatmaps[:, :, kpt_idx], all_keypoints_by_type, total_keypoints_num)\n",
        "\n",
        "        pose_entries, all_keypoints = group_keypoints(all_keypoints_by_type, pafs)\n",
        "        for kpt_id in range(all_keypoints.shape[0]):\n",
        "            all_keypoints[kpt_id, 0] = (all_keypoints[kpt_id, 0] * stride / upsample_ratio - pad[1]) / scale\n",
        "            all_keypoints[kpt_id, 1] = (all_keypoints[kpt_id, 1] * stride / upsample_ratio - pad[0]) / scale\n",
        "        current_poses = []\n",
        "\n",
        "        rects = []\n",
        "        for n in range(len(pose_entries)):\n",
        "            if len(pose_entries[n]) == 0:\n",
        "                continue\n",
        "            pose_keypoints = np.ones((num_keypoints, 2), dtype=np.int32) * -1\n",
        "            valid_keypoints = []\n",
        "            for kpt_id in range(num_keypoints):\n",
        "                if pose_entries[n][kpt_id] != -1.0:  # keypoint was found\n",
        "                    pose_keypoints[kpt_id, 0] = int(all_keypoints[int(pose_entries[n][kpt_id]), 0])\n",
        "                    pose_keypoints[kpt_id, 1] = int(all_keypoints[int(pose_entries[n][kpt_id]), 1])\n",
        "                    valid_keypoints.append([pose_keypoints[kpt_id, 0], pose_keypoints[kpt_id, 1]])\n",
        "            valid_keypoints = np.array(valid_keypoints)\n",
        "            \n",
        "            if pose_entries[n][10] != -1.0 or pose_entries[n][13] != -1.0:\n",
        "              pmin = valid_keypoints.min(0)\n",
        "              pmax = valid_keypoints.max(0)\n",
        "\n",
        "              center = (0.5 * (pmax[:2] + pmin[:2])).astype(np.int)\n",
        "              radius = int(0.65 * max(pmax[0]-pmin[0], pmax[1]-pmin[1]))\n",
        "            elif pose_entries[n][10] == -1.0 and pose_entries[n][13] == -1.0 and pose_entries[n][8] != -1.0 and pose_entries[n][11] != -1.0:\n",
        "              # if leg is missing, use pelvis to get cropping\n",
        "              center = (0.5 * (pose_keypoints[8] + pose_keypoints[11])).astype(np.int)\n",
        "              radius = int(1.45*np.sqrt(((center[None,:] - valid_keypoints)**2).sum(1)).max(0))\n",
        "              center[1] += int(0.05*radius)\n",
        "            else:\n",
        "              center = np.array([img.shape[1]//2,img.shape[0]//2])\n",
        "              radius = max(img.shape[1]//2,img.shape[0]//2)\n",
        "\n",
        "            x1 = center[0] - radius\n",
        "            y1 = center[1] - radius\n",
        "\n",
        "            rects.append([x1, y1, 2*radius, 2*radius])\n",
        "\n",
        "        np.savetxt(rect_path, np.array(rects), fmt='%d')"
      ],
      "execution_count": 9,
      "outputs": []
    },
    {
      "cell_type": "code",
      "metadata": {
        "id": "M6cGZD6f6IaY",
        "colab": {
          "base_uri": "https://localhost:8080/"
        },
        "outputId": "1f56c703-3b05-43f4-ee5a-2add14feda2b"
      },
      "source": [
        "net = PoseEstimationWithMobileNet()\n",
        "checkpoint = torch.load('checkpoint_iter_370000.pth', map_location='cpu')\n",
        "load_state(net, checkpoint)\n",
        "\n",
        "get_rect(net.cuda(), [image_path], 512)"
      ],
      "execution_count": 10,
      "outputs": [
        {
          "output_type": "stream",
          "name": "stderr",
          "text": [
            "<ipython-input-9-1919f42bf24c>:57: DeprecationWarning: `np.int` is a deprecated alias for the builtin `int`. To silence this warning, use `int` by itself. Doing this will not modify any behavior and is safe. When replacing `np.int`, you may wish to use e.g. `np.int64` or `np.int32` to specify the precision. If you wish to review your current use, check the release note link for additional information.\n",
            "Deprecated in NumPy 1.20; for more details and guidance: https://numpy.org/devdocs/release/1.20.0-notes.html#deprecations\n",
            "  center = (0.5 * (pose_keypoints[8] + pose_keypoints[11])).astype(np.int)\n"
          ]
        }
      ]
    },
    {
      "cell_type": "markdown",
      "metadata": {
        "id": "Y0rgMInwTt0s"
      },
      "source": [
        "## Download the Pretrained Model"
      ]
    },
    {
      "cell_type": "code",
      "metadata": {
        "id": "UrIcZweSNRFI",
        "colab": {
          "base_uri": "https://localhost:8080/"
        },
        "outputId": "89b74389-7c9e-480d-8a18-90f650b82c29"
      },
      "source": [
        "cd /content/pifuhd/"
      ],
      "execution_count": 11,
      "outputs": [
        {
          "output_type": "stream",
          "name": "stdout",
          "text": [
            "/content/pifuhd\n"
          ]
        }
      ]
    },
    {
      "cell_type": "code",
      "metadata": {
        "id": "k3jjm6HuQRk8",
        "colab": {
          "base_uri": "https://localhost:8080/"
        },
        "outputId": "fc9e5ea3-6834-4868-94ef-d8e723cc5349"
      },
      "source": [
        "!sh ./scripts/download_trained_model.sh"
      ],
      "execution_count": 12,
      "outputs": [
        {
          "output_type": "stream",
          "name": "stdout",
          "text": [
            "+ mkdir -p checkpoints\n",
            "+ cd checkpoints\n",
            "+ wget https://dl.fbaipublicfiles.com/pifuhd/checkpoints/pifuhd.pt pifuhd.pt\n",
            "--2023-03-24 23:47:26--  https://dl.fbaipublicfiles.com/pifuhd/checkpoints/pifuhd.pt\n",
            "Resolving dl.fbaipublicfiles.com (dl.fbaipublicfiles.com)... 52.84.251.27, 52.84.251.114, 52.84.251.106, ...\n",
            "Connecting to dl.fbaipublicfiles.com (dl.fbaipublicfiles.com)|52.84.251.27|:443... connected.\n",
            "HTTP request sent, awaiting response... 200 OK\n",
            "Length: 1548375177 (1.4G) [application/octet-stream]\n",
            "Saving to: ‘pifuhd.pt.2’\n",
            "\n",
            "pifuhd.pt.2         100%[===================>]   1.44G   237MB/s    in 6.0s    \n",
            "\n",
            "2023-03-24 23:47:32 (244 MB/s) - ‘pifuhd.pt.2’ saved [1548375177/1548375177]\n",
            "\n",
            "--2023-03-24 23:47:32--  http://pifuhd.pt/\n",
            "Resolving pifuhd.pt (pifuhd.pt)... failed: Name or service not known.\n",
            "wget: unable to resolve host address ‘pifuhd.pt’\n",
            "FINISHED --2023-03-24 23:47:32--\n",
            "Total wall clock time: 6.2s\n",
            "Downloaded: 1 files, 1.4G in 6.0s (244 MB/s)\n"
          ]
        }
      ]
    },
    {
      "cell_type": "markdown",
      "metadata": {
        "id": "6heKcA-0QEBw"
      },
      "source": [
        "## Run PIFuHD!\n"
      ]
    },
    {
      "cell_type": "code",
      "metadata": {
        "id": "5995t2PnQTmG",
        "colab": {
          "base_uri": "https://localhost:8080/"
        },
        "outputId": "de3eb6c2-5c5a-45d2-80c9-67d9beecda81"
      },
      "source": [
        "# Warning: all images with the corresponding rectangle files under -i will be processed. \n",
        "!python -m apps.simple_test -r 256 --use_rect -i $image_dir\n",
        "\n",
        "# seems that 256 is the maximum resolution that can fit into Google Colab. \n",
        "# If you want to reconstruct a higher-resolution mesh, please try with your own machine. "
      ],
      "execution_count": 13,
      "outputs": [
        {
          "output_type": "stream",
          "name": "stdout",
          "text": [
            "Resuming from  ./checkpoints/pifuhd.pt\n",
            "Warning: opt is overwritten.\n",
            "test data size:  2\n",
            "initialize network with normal\n",
            "initialize network with normal\n",
            "generate mesh (test) ...\n",
            "  0% 0/2 [00:00<?, ?it/s]./results/pifuhd_final/recon/result_cate-blanchett-video-640645a7a253c_256.obj\n",
            "/content/pifuhd/lib/mesh_util.py:77: FutureWarning: marching_cubes_lewiner is deprecated in favor of marching_cubes. marching_cubes_lewiner will be removed in version 0.19\n",
            "  verts, faces, normals, values = measure.marching_cubes_lewiner(sdf, thresh)\n",
            " 50% 1/2 [00:09<00:09,  9.86s/it]./results/pifuhd_final/recon/result_istockphoto-1307214736-170667a_256.obj\n",
            "100% 2/2 [00:15<00:00,  7.82s/it]\n"
          ]
        }
      ]
    },
    {
      "cell_type": "markdown",
      "metadata": {
        "id": "EUZ8Nt5rNFXZ"
      },
      "source": [
        "## Render the result"
      ]
    },
    {
      "cell_type": "code",
      "metadata": {
        "id": "afwL_-ROCmDf",
        "colab": {
          "base_uri": "https://localhost:8080/",
          "height": 338,
          "referenced_widgets": [
            "efbcebdbc1ff498f808bf07d5727ca66",
            "283ae96abc31471bb3ef73dd2f2ea060",
            "4f0849757cba4d21a68b83490dab3a52",
            "120b6024751e4c98bf3f5781037542d3",
            "e8cab20d0660411588aa0fef0f740ef5",
            "6fb563843100482e82b98fbdd9400236",
            "00b386ea1157459280635e9a1d9aaea5",
            "3634f1c9201b4c37bfdd5fdbc0e079e7",
            "e955867120834220ae66d594bdf70ac3",
            "460ef3d4051c418bad3d18bb28aad7c6",
            "6e85987a628b4572b33e04cc05141a0d"
          ]
        },
        "outputId": "da2e8b42-b5f0-401c-b10c-43540984a521"
      },
      "source": [
        "from lib.colab_util import generate_video_from_obj, set_renderer, video\n",
        "\n",
        "renderer = set_renderer()\n",
        "generate_video_from_obj(obj_path, out_img_path, video_path, renderer)\n",
        "\n",
        "# we cannot play a mp4 video generated by cv2\n",
        "!ffmpeg -i $video_path -vcodec libx264 $video_display_path -y -loglevel quiet\n",
        "video(video_display_path)"
      ],
      "execution_count": 14,
      "outputs": [
        {
          "output_type": "stream",
          "name": "stderr",
          "text": [
            "/usr/local/lib/python3.9/dist-packages/pytorch3d/io/obj_io.py:542: UserWarning: No mtl file provided\n",
            "  warnings.warn(\"No mtl file provided\")\n"
          ]
        },
        {
          "output_type": "display_data",
          "data": {
            "text/plain": [
              "  0%|          | 0/90 [00:00<?, ?it/s]"
            ],
            "application/vnd.jupyter.widget-view+json": {
              "version_major": 2,
              "version_minor": 0,
              "model_id": "efbcebdbc1ff498f808bf07d5727ca66"
            }
          },
          "metadata": {}
        },
        {
          "output_type": "execute_result",
          "data": {
            "text/plain": [
              "<IPython.core.display.HTML object>"
            ],
            "text/html": [
              "<video width=500 controls loop> <source src=\"data:video/mp4;base64,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\" type=\"video/mp4\"></video>"
            ]
          },
          "metadata": {},
          "execution_count": 14
        }
      ]
    },
    {
      "cell_type": "markdown",
      "metadata": {
        "id": "eUEXAvcvkVYV"
      },
      "source": [
        "## Tips for Inputs: My results are broken!\n",
        "\n",
        "(Kudos to those who share results on twitter with [#pifuhd](https://twitter.com/search?q=%23pifuhd&src=recent_search_click&f=live) tag!!!!)\n",
        "\n",
        "Due to the limited variation in the training data, your results might be broken sometimes. Here I share some useful tips to get resonable results. \n",
        "\n",
        "*   Use high-res image. The model is trained with 1024x1024 images. Use at least 512x512 with fine-details. Low-res images and JPEG artifacts may result in unsatisfactory results. \n",
        "*   Use an image with a single person. If the image contain multiple people, reconstruction quality is likely degraded.\n",
        "*   Front facing with standing works best (or with fashion pose)\n",
        "*   The entire body is covered within the image. (Note: now missing legs is partially supported)\n",
        "*   Make sure the input image is well lit. Exteremy dark or bright image and strong shadow often create artifacts.\n",
        "*   I recommend nearly parallel camera angle to the ground. High camera height may result in distorted legs or high heels. \n",
        "*   If the background is cluttered, use less complex background or try removing it using https://www.remove.bg/ before processing.\n",
        "*   It's trained with human only. Anime characters may not work well (To my surprise, indeed many people tried it!!).\n",
        "*   Search on twitter with [#pifuhd](https://twitter.com/search?q=%23pifuhd&src=recent_search_click&f=live) tag to get a better sense of what succeeds and what fails. \n"
      ]
    },
    {
      "cell_type": "markdown",
      "metadata": {
        "id": "u6U0K5CNAO_u"
      },
      "source": [
        "## Share your result! \n",
        "Please share your results with[ #pifuhd](https://twitter.com/search?q=%23pifuhd&src=recent_search_click&f=live) tag on Twitter. Sharing your good/bad results helps and encourages the authors to further push towards producition-quality human digitization at home.\n",
        "**As the tweet buttom below doesn't add the result video automatically, please download the result video above and manually add it to the tweet.**"
      ]
    },
    {
      "cell_type": "code",
      "metadata": {
        "id": "1CBxbdrM9F-9",
        "colab": {
          "base_uri": "https://localhost:8080/",
          "height": 49
        },
        "outputId": "066da2e3-4934-4133-d9fc-525365b49176"
      },
      "source": [
        "import IPython\n",
        "IPython.display.HTML('<a href=\"https://twitter.com/intent/tweet?button_hashtag=pifuhd&ref_src=twsrc%5Etfw\" class=\"twitter-hashtag-button\" data-size=\"large\" data-text=\"Google Colab Link: \" data-url=\"https://bit.ly/37sfogZ\" data-show-count=\"false\">Tweet #pifuhd</a><script async src=\"https://platform.twitter.com/widgets.js\" charset=\"utf-8\"></script>  (Don\\'t forget to add your result to the tweet!)')"
      ],
      "execution_count": null,
      "outputs": [
        {
          "output_type": "execute_result",
          "data": {
            "text/html": [
              "<a href=\"https://twitter.com/intent/tweet?button_hashtag=pifuhd&ref_src=twsrc%5Etfw\" class=\"twitter-hashtag-button\" data-size=\"large\" data-text=\"Google Colab Link: \" data-url=\"https://bit.ly/37sfogZ\" data-show-count=\"false\">Tweet #pifuhd</a><script async src=\"https://platform.twitter.com/widgets.js\" charset=\"utf-8\"></script>  (Don't forget to add your result to the tweet!)"
            ],
            "text/plain": [
              "<IPython.core.display.HTML object>"
            ]
          },
          "metadata": {
            "tags": []
          },
          "execution_count": 2
        }
      ]
    },
    {
      "cell_type": "markdown",
      "metadata": {
        "id": "2d-1pR8UR7PR"
      },
      "source": [
        "## Cool Applications\n",
        "Special thanks to those who play with PIFuHD and came up with many creative applications!! If you made any cool applications, please tweet your demo with [#pifuhd](https://twitter.com/search?q=%23pifuhd&src=recent_search_click&f=live). I'm constantly checking results there.\n",
        "If you need complete texture on the mesh, please try my previous work [PIFu](https://github.com/shunsukesaito/PIFu) as well! It supports 3D reconstruction + texturing from a single image although the geometry quality may not be as good as PIFuHD."
      ]
    },
    {
      "cell_type": "code",
      "metadata": {
        "id": "68JDAYJFSFMV",
        "colab": {
          "base_uri": "https://localhost:8080/",
          "height": 1000
        },
        "outputId": "77edbec3-987a-4feb-bc0a-edb1aab173b6"
      },
      "source": [
        "IPython.display.HTML('<h2>Rigging (Mixamo) + Photoreal Rendering (Blender)</h2><blockquote class=\"twitter-tweet\"><p lang=\"pt\" dir=\"ltr\">vcs ainda tem a PACHORRA de me dizer que eu não sei dançar<a href=\"https://twitter.com/hashtag/b3d?src=hash&amp;ref_src=twsrc%5Etfw\">#b3d</a> <a href=\"https://twitter.com/hashtag/pifuhd?src=hash&amp;ref_src=twsrc%5Etfw\">#pifuhd</a> <a href=\"https://t.co/kHCnLh6zxH\">pic.twitter.com/kHCnLh6zxH</a></p>&mdash; lukas arendero (@lukazvd) <a href=\"https://twitter.com/lukazvd/status/1274810484798128131?ref_src=twsrc%5Etfw\">June 21, 2020</a></blockquote> <script async src=\"https://platform.twitter.com/widgets.js\" charset=\"utf-8\"></script><h2>FaceApp + Rigging (Mixamo)</h2><blockquote class=\"twitter-tweet\"><p lang=\"ja\" dir=\"ltr\">カツラかぶってる自分に見える <a href=\"https://twitter.com/hashtag/pifuhd?src=hash&amp;ref_src=twsrc%5Etfw\">#pifuhd</a> <a href=\"https://t.co/V8o7VduTiG\">pic.twitter.com/V8o7VduTiG</a></p>&mdash; Shuhei Tsuchida (@shuhei2306) <a href=\"https://twitter.com/shuhei2306/status/1274507242910314498?ref_src=twsrc%5Etfw\">June 21, 2020</a></blockquote> <script async src=\"https://platform.twitter.com/widgets.js\" charset=\"utf-8\"></script><h2>Rigging (Mixamo) + AR (Adobe Aero)</AR><blockquote class=\"twitter-tweet\"><p lang=\"ja\" dir=\"ltr\">写真→PIFuHD→Mixamo→AdobeAeroでサウンド付きARを作成。Zip化してLINEでARコンテンツを共有。<br>写真が1枚あれば簡単にARの3Dアニメーションが作れる時代…凄い。<a href=\"https://twitter.com/hashtag/PIFuHD?src=hash&amp;ref_src=twsrc%5Etfw\">#PIFuHD</a> <a href=\"https://twitter.com/hashtag/AdobeAero?src=hash&amp;ref_src=twsrc%5Etfw\">#AdobeAero</a> <a href=\"https://twitter.com/hashtag/Mixamo?src=hash&amp;ref_src=twsrc%5Etfw\">#Mixamo</a> <a href=\"https://t.co/CbiMi4gZ0K\">pic.twitter.com/CbiMi4gZ0K</a></p>&mdash; モジョン (@mojon1) <a href=\"https://twitter.com/mojon1/status/1273217947872317441?ref_src=twsrc%5Etfw\">June 17, 2020</a></blockquote> <script async src=\"https://platform.twitter.com/widgets.js\" charset=\"utf-8\"></script><h2>3D Printing</h2><blockquote class=\"twitter-tweet\"><p lang=\"ja\" dir=\"ltr\"><a href=\"https://twitter.com/hashtag/pifuhd?src=hash&amp;ref_src=twsrc%5Etfw\">#pifuhd</a> 楽しい〜<br>小さい自分プリントした <a href=\"https://t.co/4qyWuij0Hs\">pic.twitter.com/4qyWuij0Hs</a></p>&mdash; isb (@vxzxzxzxv) <a href=\"https://twitter.com/vxzxzxzxv/status/1273136266406694913?ref_src=twsrc%5Etfw\">June 17, 2020</a></blockquote> <script async src=\"https://platform.twitter.com/widgets.js\" charset=\"utf-8\"></script>')"
      ],
      "execution_count": null,
      "outputs": [
        {
          "output_type": "execute_result",
          "data": {
            "text/html": [
              "<h2>Rigging (Mixamo) + Photoreal Rendering (Blender)</h2><blockquote class=\"twitter-tweet\"><p lang=\"pt\" dir=\"ltr\">vcs ainda tem a PACHORRA de me dizer que eu não sei dançar<a href=\"https://twitter.com/hashtag/b3d?src=hash&amp;ref_src=twsrc%5Etfw\">#b3d</a> <a href=\"https://twitter.com/hashtag/pifuhd?src=hash&amp;ref_src=twsrc%5Etfw\">#pifuhd</a> <a href=\"https://t.co/kHCnLh6zxH\">pic.twitter.com/kHCnLh6zxH</a></p>&mdash; lukas arendero (@lukazvd) <a href=\"https://twitter.com/lukazvd/status/1274810484798128131?ref_src=twsrc%5Etfw\">June 21, 2020</a></blockquote> <script async src=\"https://platform.twitter.com/widgets.js\" charset=\"utf-8\"></script><h2>FaceApp + Rigging (Mixamo)</h2><blockquote class=\"twitter-tweet\"><p lang=\"ja\" dir=\"ltr\">カツラかぶってる自分に見える <a href=\"https://twitter.com/hashtag/pifuhd?src=hash&amp;ref_src=twsrc%5Etfw\">#pifuhd</a> <a href=\"https://t.co/V8o7VduTiG\">pic.twitter.com/V8o7VduTiG</a></p>&mdash; Shuhei Tsuchida (@shuhei2306) <a href=\"https://twitter.com/shuhei2306/status/1274507242910314498?ref_src=twsrc%5Etfw\">June 21, 2020</a></blockquote> <script async src=\"https://platform.twitter.com/widgets.js\" charset=\"utf-8\"></script><h2>Rigging (Mixamo) + AR (Adobe Aero)</AR><blockquote class=\"twitter-tweet\"><p lang=\"ja\" dir=\"ltr\">写真→PIFuHD→Mixamo→AdobeAeroでサウンド付きARを作成。Zip化してLINEでARコンテンツを共有。<br>写真が1枚あれば簡単にARの3Dアニメーションが作れる時代…凄い。<a href=\"https://twitter.com/hashtag/PIFuHD?src=hash&amp;ref_src=twsrc%5Etfw\">#PIFuHD</a> <a href=\"https://twitter.com/hashtag/AdobeAero?src=hash&amp;ref_src=twsrc%5Etfw\">#AdobeAero</a> <a href=\"https://twitter.com/hashtag/Mixamo?src=hash&amp;ref_src=twsrc%5Etfw\">#Mixamo</a> <a href=\"https://t.co/CbiMi4gZ0K\">pic.twitter.com/CbiMi4gZ0K</a></p>&mdash; モジョン (@mojon1) <a href=\"https://twitter.com/mojon1/status/1273217947872317441?ref_src=twsrc%5Etfw\">June 17, 2020</a></blockquote> <script async src=\"https://platform.twitter.com/widgets.js\" charset=\"utf-8\"></script><h2>3D Printing</h2><blockquote class=\"twitter-tweet\"><p lang=\"ja\" dir=\"ltr\"><a href=\"https://twitter.com/hashtag/pifuhd?src=hash&amp;ref_src=twsrc%5Etfw\">#pifuhd</a> 楽しい〜<br>小さい自分プリントした <a href=\"https://t.co/4qyWuij0Hs\">pic.twitter.com/4qyWuij0Hs</a></p>&mdash; isb (@vxzxzxzxv) <a href=\"https://twitter.com/vxzxzxzxv/status/1273136266406694913?ref_src=twsrc%5Etfw\">June 17, 2020</a></blockquote> <script async src=\"https://platform.twitter.com/widgets.js\" charset=\"utf-8\"></script>"
            ],
            "text/plain": [
              "<IPython.core.display.HTML object>"
            ]
          },
          "metadata": {
            "tags": []
          },
          "execution_count": 11
        }
      ]
    },
    {
      "cell_type": "code",
      "metadata": {
        "id": "lX5CTTW_KWhQ"
      },
      "source": [],
      "execution_count": null,
      "outputs": []
    }
  ]
}